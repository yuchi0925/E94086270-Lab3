{
 "cells": [
  {
   "cell_type": "code",
   "execution_count": 1,
   "metadata": {},
   "outputs": [
    {
     "name": "stdout",
     "output_type": "stream",
     "text": [
      "pygame 2.0.1 (SDL 2.0.14, Python 3.8.5)\n",
      "Hello from the pygame community. https://www.pygame.org/contribute.html\n"
     ]
    },
    {
     "ename": "IndexError",
     "evalue": "list index out of range",
     "output_type": "error",
     "traceback": [
      "\u001b[1;31m---------------------------------------------------------------------------\u001b[0m",
      "\u001b[1;31mIndexError\u001b[0m                                Traceback (most recent call last)",
      "\u001b[1;32m<ipython-input-1-71497a66a383>\u001b[0m in \u001b[0;36m<module>\u001b[1;34m\u001b[0m\n\u001b[0;32m     78\u001b[0m \u001b[1;32mif\u001b[0m \u001b[0m__name__\u001b[0m \u001b[1;33m==\u001b[0m \u001b[1;34m'__main__'\u001b[0m\u001b[1;33m:\u001b[0m\u001b[1;33m\u001b[0m\u001b[1;33m\u001b[0m\u001b[0m\n\u001b[0;32m     79\u001b[0m     \u001b[0mcovid_game\u001b[0m \u001b[1;33m=\u001b[0m \u001b[0mGame\u001b[0m\u001b[1;33m(\u001b[0m\u001b[1;33m)\u001b[0m\u001b[1;33m\u001b[0m\u001b[1;33m\u001b[0m\u001b[0m\n\u001b[1;32m---> 80\u001b[1;33m     \u001b[0mcovid_game\u001b[0m\u001b[1;33m.\u001b[0m\u001b[0mgame_run\u001b[0m\u001b[1;33m(\u001b[0m\u001b[1;33m)\u001b[0m\u001b[1;33m\u001b[0m\u001b[1;33m\u001b[0m\u001b[0m\n\u001b[0m",
      "\u001b[1;32m<ipython-input-1-71497a66a383>\u001b[0m in \u001b[0;36mgame_run\u001b[1;34m(self)\u001b[0m\n\u001b[0;32m     65\u001b[0m             \u001b[0mself\u001b[0m\u001b[1;33m.\u001b[0m\u001b[0menemies\u001b[0m\u001b[1;33m.\u001b[0m\u001b[0mcampaign\u001b[0m\u001b[1;33m(\u001b[0m\u001b[1;33m)\u001b[0m\u001b[1;33m\u001b[0m\u001b[1;33m\u001b[0m\u001b[0m\n\u001b[0;32m     66\u001b[0m             \u001b[1;32mfor\u001b[0m \u001b[0men\u001b[0m \u001b[1;32min\u001b[0m \u001b[0mself\u001b[0m\u001b[1;33m.\u001b[0m\u001b[0menemies\u001b[0m\u001b[1;33m.\u001b[0m\u001b[0mget\u001b[0m\u001b[1;33m(\u001b[0m\u001b[1;33m)\u001b[0m\u001b[1;33m:\u001b[0m\u001b[1;33m\u001b[0m\u001b[1;33m\u001b[0m\u001b[0m\n\u001b[1;32m---> 67\u001b[1;33m                 \u001b[0men\u001b[0m\u001b[1;33m.\u001b[0m\u001b[0mmove\u001b[0m\u001b[1;33m(\u001b[0m\u001b[1;33m)\u001b[0m\u001b[1;33m\u001b[0m\u001b[1;33m\u001b[0m\u001b[0m\n\u001b[0m\u001b[0;32m     68\u001b[0m                 \u001b[1;31m# delete the object when it reach the base\u001b[0m\u001b[1;33m\u001b[0m\u001b[1;33m\u001b[0m\u001b[1;33m\u001b[0m\u001b[0m\n\u001b[0;32m     69\u001b[0m                 \u001b[1;32mif\u001b[0m \u001b[0mself\u001b[0m\u001b[1;33m.\u001b[0m\u001b[0mcollide_base\u001b[0m\u001b[1;33m(\u001b[0m\u001b[0men\u001b[0m\u001b[1;33m)\u001b[0m\u001b[1;33m:\u001b[0m\u001b[1;33m\u001b[0m\u001b[1;33m\u001b[0m\u001b[0m\n",
      "\u001b[1;32m~\\Desktop\\E94086270_Lab3\\enemy.py\u001b[0m in \u001b[0;36mmove\u001b[1;34m(self)\u001b[0m\n\u001b[0;32m     42\u001b[0m         \"\"\"\n\u001b[0;32m     43\u001b[0m         \u001b[0mnow_x\u001b[0m\u001b[1;33m,\u001b[0m \u001b[0mnow_y\u001b[0m \u001b[1;33m=\u001b[0m \u001b[0mself\u001b[0m\u001b[1;33m.\u001b[0m\u001b[0mpath\u001b[0m\u001b[1;33m[\u001b[0m\u001b[0mself\u001b[0m\u001b[1;33m.\u001b[0m\u001b[0mpath_index\u001b[0m\u001b[1;33m]\u001b[0m  \u001b[1;31m# x,y初始位置\u001b[0m\u001b[1;33m\u001b[0m\u001b[1;33m\u001b[0m\u001b[0m\n\u001b[1;32m---> 44\u001b[1;33m         \u001b[0mnext_x\u001b[0m\u001b[1;33m,\u001b[0m \u001b[0mnext_y\u001b[0m \u001b[1;33m=\u001b[0m \u001b[0mself\u001b[0m\u001b[1;33m.\u001b[0m\u001b[0mpath\u001b[0m\u001b[1;33m[\u001b[0m\u001b[0mself\u001b[0m\u001b[1;33m.\u001b[0m\u001b[0mpath_index\u001b[0m \u001b[1;33m+\u001b[0m \u001b[1;36m1\u001b[0m\u001b[1;33m]\u001b[0m  \u001b[1;31m# x,y目標位置\u001b[0m\u001b[1;33m\u001b[0m\u001b[1;33m\u001b[0m\u001b[0m\n\u001b[0m\u001b[0;32m     45\u001b[0m         \u001b[0mdistance\u001b[0m \u001b[1;33m=\u001b[0m \u001b[0mmath\u001b[0m\u001b[1;33m.\u001b[0m\u001b[0msqrt\u001b[0m\u001b[1;33m(\u001b[0m\u001b[1;33m(\u001b[0m\u001b[0mnow_x\u001b[0m \u001b[1;33m-\u001b[0m \u001b[0mnext_x\u001b[0m\u001b[1;33m)\u001b[0m\u001b[1;33m**\u001b[0m\u001b[1;36m2\u001b[0m \u001b[1;33m+\u001b[0m \u001b[1;33m(\u001b[0m\u001b[0mnow_y\u001b[0m \u001b[1;33m-\u001b[0m \u001b[0mnext_y\u001b[0m\u001b[1;33m)\u001b[0m\u001b[1;33m**\u001b[0m\u001b[1;36m2\u001b[0m\u001b[1;33m)\u001b[0m  \u001b[1;31m#兩點之間距離\u001b[0m\u001b[1;33m\u001b[0m\u001b[1;33m\u001b[0m\u001b[0m\n\u001b[0;32m     46\u001b[0m         \u001b[0mmax_count\u001b[0m \u001b[1;33m=\u001b[0m \u001b[0mint\u001b[0m\u001b[1;33m(\u001b[0m\u001b[0mdistance\u001b[0m \u001b[1;33m/\u001b[0m \u001b[0mself\u001b[0m\u001b[1;33m.\u001b[0m\u001b[0mstride\u001b[0m\u001b[1;33m)\u001b[0m  \u001b[1;31m#兩點之間需要的步數\u001b[0m\u001b[1;33m\u001b[0m\u001b[1;33m\u001b[0m\u001b[0m\n",
      "\u001b[1;31mIndexError\u001b[0m: list index out of range"
     ]
    }
   ],
   "source": [
    "import pygame\n",
    "from enemy import EnemyGroup\n",
    "import os\n",
    "from settings import WIN_WIDTH, WIN_HEIGHT, FPS\n",
    "\n",
    "# initialization\n",
    "pygame.init()\n",
    "# load image\n",
    "BACKGROUND_IMAGE = pygame.image.load(os.path.join(\"images\", \"Map.png\"))\n",
    "HP_IMAGE = pygame.image.load(os.path.join(\"images\", \"hp.png\"))\n",
    "HP_GRAY_IMAGE = pygame.image.load(os.path.join(\"images\", \"hp_gray.png\"))\n",
    "# set the title and icon\n",
    "pygame.display.set_caption(\"My TD game\")\n",
    "\n",
    "\n",
    "class Game:\n",
    "    def __init__(self):\n",
    "        self.win = pygame.display.set_mode((WIN_WIDTH, WIN_HEIGHT))\n",
    "        self.bg_image = pygame.transform.scale(BACKGROUND_IMAGE, (WIN_WIDTH, WIN_HEIGHT))\n",
    "        self.hp_images = [pygame.transform.scale(HP_IMAGE, (40, 40)),\n",
    "                          pygame.transform.scale(HP_GRAY_IMAGE, (40, 40))]\n",
    "        self.enemies = EnemyGroup()\n",
    "        self.base = pygame.Rect(430, 90, 195, 130)\n",
    "\n",
    "    def collide_base(self, enemy):\n",
    "        \"\"\"\n",
    "        Return True if the enemy collide with base.\n",
    "        :param enemy: object (Enemy())\n",
    "        :return: Bool\n",
    "        \"\"\"\n",
    "        x, y = self.base.center\n",
    "        width, height = self.base.w, self.base.h\n",
    "        if x - width // 2 < enemy.x < x + width // 2 and y - height // 2 < enemy.y < y + height // 2:\n",
    "            return True\n",
    "        return False\n",
    "\n",
    "    def draw(self):\n",
    "        \"\"\"\n",
    "        Draw everything in this method.\n",
    "        :return: None\n",
    "        \"\"\"\n",
    "        # draw background\n",
    "        self.win.blit(self.bg_image, (0, 0))\n",
    "        # draw enemy\n",
    "        for en in self.enemies.get():\n",
    "            en.draw(self.win)\n",
    "\n",
    "    def game_run(self):\n",
    "        # game loop\n",
    "        run = True\n",
    "        clock = pygame.time.Clock()\n",
    "        while run:\n",
    "            clock.tick(FPS)\n",
    "            # event loop\n",
    "            for event in pygame.event.get():\n",
    "                # quit the game\n",
    "                if event.type == pygame.QUIT:\n",
    "                    run = False\n",
    "                # generate enemy of the next wave\n",
    "                if event.type == pygame.KEYDOWN:\n",
    "                    if event.key == pygame.K_n and self.enemies.is_empty():\n",
    "                        self.enemies.generate(3)\n",
    "\n",
    "             # enemy loop\n",
    "            self.enemies.campaign()\n",
    "            for en in self.enemies.get():\n",
    "                en.move()\n",
    "                # delete the object when it reach the base\n",
    "                if self.collide_base(en):\n",
    "                    self.enemies.retreat(en)\n",
    "\n",
    "            # draw everything\n",
    "            self.draw()\n",
    "            pygame.display.update()\n",
    "        pygame.quit()\n",
    "\n",
    "\n",
    "if __name__ == '__main__':\n",
    "    covid_game = Game()\n",
    "    covid_game.game_run()"
   ]
  },
  {
   "cell_type": "code",
   "execution_count": null,
   "metadata": {},
   "outputs": [],
   "source": []
  },
  {
   "cell_type": "code",
   "execution_count": null,
   "metadata": {},
   "outputs": [],
   "source": []
  }
 ],
 "metadata": {
  "kernelspec": {
   "display_name": "Python 3",
   "language": "python",
   "name": "python3"
  },
  "language_info": {
   "codemirror_mode": {
    "name": "ipython",
    "version": 3
   },
   "file_extension": ".py",
   "mimetype": "text/x-python",
   "name": "python",
   "nbconvert_exporter": "python",
   "pygments_lexer": "ipython3",
   "version": "3.8.5"
  }
 },
 "nbformat": 4,
 "nbformat_minor": 4
}
